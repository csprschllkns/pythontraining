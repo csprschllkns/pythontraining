{
 "cells": [
  {
   "cell_type": "code",
   "execution_count": 1,
   "metadata": {},
   "outputs": [
    {
     "data": {
      "text/plain": [
       "10"
      ]
     },
     "execution_count": 1,
     "metadata": {},
     "output_type": "execute_result"
    }
   ],
   "source": [
    "2 * 5"
   ]
  },
  {
   "cell_type": "code",
   "execution_count": 2,
   "metadata": {},
   "outputs": [
    {
     "data": {
      "text/plain": [
       "1.3333333333333333"
      ]
     },
     "execution_count": 2,
     "metadata": {},
     "output_type": "execute_result"
    }
   ],
   "source": [
    "4/3"
   ]
  },
  {
   "cell_type": "code",
   "execution_count": 51,
   "metadata": {},
   "outputs": [
    {
     "data": {
      "text/plain": [
       "1"
      ]
     },
     "execution_count": 51,
     "metadata": {},
     "output_type": "execute_result"
    }
   ],
   "source": [
    "4//3"
   ]
  },
  {
   "cell_type": "code",
   "execution_count": 52,
   "metadata": {},
   "outputs": [
    {
     "data": {
      "text/plain": [
       "'Hello World!'"
      ]
     },
     "execution_count": 52,
     "metadata": {},
     "output_type": "execute_result"
    }
   ],
   "source": [
    "\"Hello World!\""
   ]
  },
  {
   "cell_type": "code",
   "execution_count": 53,
   "metadata": {},
   "outputs": [],
   "source": [
    "a = 4"
   ]
  },
  {
   "cell_type": "code",
   "execution_count": 54,
   "metadata": {},
   "outputs": [
    {
     "data": {
      "text/plain": [
       "12"
      ]
     },
     "execution_count": 54,
     "metadata": {},
     "output_type": "execute_result"
    }
   ],
   "source": [
    "a+8"
   ]
  },
  {
   "cell_type": "code",
   "execution_count": 55,
   "metadata": {},
   "outputs": [],
   "source": [
    "weight_kg = 93"
   ]
  },
  {
   "cell_type": "code",
   "execution_count": 56,
   "metadata": {},
   "outputs": [
    {
     "ename": "SyntaxError",
     "evalue": "invalid syntax (<ipython-input-56-1b3f776718c7>, line 2)",
     "output_type": "error",
     "traceback": [
      "\u001b[0;36m  File \u001b[0;32m\"<ipython-input-56-1b3f776718c7>\"\u001b[0;36m, line \u001b[0;32m2\u001b[0m\n\u001b[0;31m    0weight = 93\u001b[0m\n\u001b[0m          ^\u001b[0m\n\u001b[0;31mSyntaxError\u001b[0m\u001b[0;31m:\u001b[0m invalid syntax\n"
     ]
    }
   ],
   "source": [
    "# variables cannot start with a number\n",
    "0weight = 93"
   ]
  },
  {
   "cell_type": "code",
   "execution_count": 57,
   "metadata": {},
   "outputs": [],
   "source": [
    "#string can be with single or double quotes, convention double quotes\n",
    "weight_kg_txt = \"nightythree\"\n",
    "weight_kg_txt = 'nightythree'"
   ]
  },
  {
   "cell_type": "code",
   "execution_count": 58,
   "metadata": {},
   "outputs": [
    {
     "data": {
      "text/plain": [
       "int"
      ]
     },
     "execution_count": 58,
     "metadata": {},
     "output_type": "execute_result"
    }
   ],
   "source": [
    "type(weight_kg)"
   ]
  },
  {
   "cell_type": "code",
   "execution_count": 59,
   "metadata": {},
   "outputs": [
    {
     "name": "stdout",
     "output_type": "stream",
     "text": [
      "<class 'int'>\n",
      "<class 'str'>\n"
     ]
    }
   ],
   "source": [
    "print(type(weight_kg))\n",
    "print(type(weight_kg_txt))"
   ]
  },
  {
   "cell_type": "code",
   "execution_count": 60,
   "metadata": {},
   "outputs": [
    {
     "name": "stdout",
     "output_type": "stream",
     "text": [
      "93 nightythree whatever\n",
      "weight: 93\n",
      "weight:93\n"
     ]
    }
   ],
   "source": [
    "#note that print automatically prints spaces between values\n",
    "print(weight_kg, weight_kg_txt, \"whatever\")\n",
    "\n",
    "print(\"weight:\", weight_kg)\n",
    "print(\"weight:{}\".format(weight_kg))"
   ]
  },
  {
   "cell_type": "code",
   "execution_count": 61,
   "metadata": {},
   "outputs": [
    {
     "data": {
      "text/plain": [
       "0.30000000000000004"
      ]
     },
     "execution_count": 61,
     "metadata": {},
     "output_type": "execute_result"
    }
   ],
   "source": [
    "# hmm, floating point inprecisions\n",
    "# https://0.30000000000000004.com \n",
    "0.1 + 0.2"
   ]
  },
  {
   "cell_type": "markdown",
   "metadata": {},
   "source": [
    "# HI, this is a title header\n",
    "just some tekst\n",
    "\n",
    "## paragraph\n",
    "more tekst\n",
    "- and a list\n",
    "- list item 2\n",
    "\n",
    "or a numbered list:\n",
    "1. item 1\n",
    "2. item 2"
   ]
  },
  {
   "cell_type": "markdown",
   "metadata": {},
   "source": [
    "# Python standard functions and using libraries\n",
    "Python has some built-in functions\n",
    "check out: https://docs.python.org/3/library/functions.html </br>\n",
    "Most functionality is offered by libraries available, such as the numpy library "
   ]
  },
  {
   "cell_type": "code",
   "execution_count": 14,
   "metadata": {},
   "outputs": [
    {
     "name": "stdout",
     "output_type": "stream",
     "text": [
      "Requirement already satisfied: numpy in /Users/Casper/anaconda3/lib/python3.7/site-packages (1.16.4)\n"
     ]
    }
   ],
   "source": [
    "!pip install numpy"
   ]
  },
  {
   "cell_type": "code",
   "execution_count": 15,
   "metadata": {},
   "outputs": [],
   "source": [
    "#loading a library\n",
    "# import numpy\n",
    "# or better \n",
    "import numpy as np"
   ]
  },
  {
   "cell_type": "code",
   "execution_count": 16,
   "metadata": {},
   "outputs": [
    {
     "data": {
      "text/plain": [
       "[1, 'abc', 3]"
      ]
     },
     "execution_count": 16,
     "metadata": {},
     "output_type": "execute_result"
    }
   ],
   "source": [
    "[1, \"abc\", 3]"
   ]
  },
  {
   "cell_type": "code",
   "execution_count": 17,
   "metadata": {},
   "outputs": [
    {
     "name": "stdout",
     "output_type": "stream",
     "text": [
      "/Users/Casper/Documents/ICS S7 Cyber Security/data analyse/data+notebook/python training\n"
     ]
    }
   ],
   "source": [
    "#run commands from the shell with ! (exclamation mark)\n",
    "!pwd"
   ]
  },
  {
   "cell_type": "code",
   "execution_count": 20,
   "metadata": {},
   "outputs": [],
   "source": [
    "#note: use shift+tab for info about classes or parameters in methods\n",
    "# numpy.loadtxt(fname=\"./data/inflammation-01.csv\", delimiter=',')\n",
    "# or, better practice to use the given variable name for the imported class \n",
    "data = np.loadtxt(fname=\"./data/inflammation-01.csv\", delimiter=',')"
   ]
  },
  {
   "cell_type": "code",
   "execution_count": 21,
   "metadata": {},
   "outputs": [
    {
     "name": "stdout",
     "output_type": "stream",
     "text": [
      "[[0. 0. 1. ... 3. 0. 0.]\n",
      " [0. 1. 2. ... 1. 0. 1.]\n",
      " [0. 1. 1. ... 2. 1. 1.]\n",
      " ...\n",
      " [0. 1. 1. ... 1. 1. 1.]\n",
      " [0. 0. 0. ... 0. 2. 0.]\n",
      " [0. 0. 1. ... 1. 1. 0.]]\n"
     ]
    }
   ],
   "source": [
    "print(data)"
   ]
  },
  {
   "cell_type": "code",
   "execution_count": 22,
   "metadata": {},
   "outputs": [
    {
     "name": "stdout",
     "output_type": "stream",
     "text": [
      "[[0 0 1 ... 3 0 0]\n",
      " [0 1 2 ... 1 0 1]\n",
      " [0 1 1 ... 2 1 1]\n",
      " ...\n",
      " [0 1 1 ... 1 1 1]\n",
      " [0 0 0 ... 0 2 0]\n",
      " [0 0 1 ... 1 1 0]]\n"
     ]
    }
   ],
   "source": [
    "print(data.astype('int'))"
   ]
  },
  {
   "cell_type": "code",
   "execution_count": 23,
   "metadata": {},
   "outputs": [
    {
     "name": "stdout",
     "output_type": "stream",
     "text": [
      "[1 2 1 2 1]\n"
     ]
    }
   ],
   "source": [
    "# start is inclusive, end is exclusive\n",
    "# print first 5 rows in column 2 (so the third column counting from 0)\n",
    "print(data[0:5,2].astype('int'))"
   ]
  },
  {
   "cell_type": "code",
   "execution_count": 24,
   "metadata": {},
   "outputs": [
    {
     "data": {
      "text/plain": [
       "array([[0., 1., 1., 4.],\n",
       "       [0., 2., 2., 3.],\n",
       "       [0., 1., 3., 6.],\n",
       "       [0., 2., 4., 2.],\n",
       "       [0., 1., 3., 3.],\n",
       "       [0., 1., 2., 2.],\n",
       "       [0., 2., 4., 2.],\n",
       "       [0., 1., 3., 2.],\n",
       "       [0., 0., 1., 6.],\n",
       "       [0., 1., 1., 5.],\n",
       "       [0., 0., 4., 3.],\n",
       "       [0., 0., 3., 2.],\n",
       "       [0., 2., 4., 6.],\n",
       "       [0., 0., 1., 1.],\n",
       "       [0., 2., 1., 4.],\n",
       "       [0., 1., 1., 4.],\n",
       "       [0., 0., 2., 6.],\n",
       "       [0., 0., 2., 4.],\n",
       "       [0., 2., 2., 4.],\n",
       "       [0., 2., 1., 3.],\n",
       "       [0., 1., 1., 4.],\n",
       "       [0., 2., 2., 2.],\n",
       "       [0., 0., 4., 1.],\n",
       "       [0., 1., 1., 3.],\n",
       "       [0., 1., 2., 5.],\n",
       "       [0., 2., 3., 2.],\n",
       "       [0., 1., 4., 2.],\n",
       "       [0., 1., 1., 1.],\n",
       "       [0., 2., 3., 6.],\n",
       "       [0., 0., 4., 6.],\n",
       "       [0., 1., 3., 4.],\n",
       "       [0., 2., 3., 5.],\n",
       "       [0., 2., 2., 6.],\n",
       "       [0., 2., 3., 6.],\n",
       "       [0., 1., 4., 5.],\n",
       "       [0., 0., 1., 6.],\n",
       "       [0., 2., 2., 5.],\n",
       "       [0., 1., 3., 5.],\n",
       "       [0., 0., 2., 1.],\n",
       "       [0., 1., 1., 5.],\n",
       "       [0., 0., 2., 3.],\n",
       "       [0., 1., 3., 2.],\n",
       "       [0., 1., 4., 2.],\n",
       "       [0., 1., 1., 3.],\n",
       "       [0., 1., 3., 4.],\n",
       "       [0., 2., 4., 1.],\n",
       "       [0., 2., 4., 4.],\n",
       "       [0., 1., 1., 6.],\n",
       "       [0., 1., 2., 1.],\n",
       "       [0., 1., 3., 5.],\n",
       "       [0., 2., 1., 5.],\n",
       "       [0., 2., 3., 2.],\n",
       "       [0., 0., 4., 5.],\n",
       "       [0., 2., 1., 4.],\n",
       "       [0., 2., 1., 5.],\n",
       "       [0., 1., 2., 6.],\n",
       "       [0., 1., 2., 1.],\n",
       "       [0., 1., 4., 6.],\n",
       "       [0., 0., 4., 6.],\n",
       "       [0., 1., 3., 5.]])"
      ]
     },
     "execution_count": 24,
     "metadata": {},
     "output_type": "execute_result"
    }
   ],
   "source": [
    "#get all rows, columns 0 to (not including) 8 in steps of 2 (so, 4 and 6 in this example)\n",
    "data[:,0:8:2]"
   ]
  },
  {
   "cell_type": "code",
   "execution_count": 25,
   "metadata": {},
   "outputs": [
    {
     "data": {
      "text/plain": [
       "array([3., 5.])"
      ]
     },
     "execution_count": 25,
     "metadata": {},
     "output_type": "execute_result"
    }
   ],
   "source": [
    "# just -1 is the last element\n",
    "data[-1,4:8:2]"
   ]
  },
  {
   "cell_type": "code",
   "execution_count": 26,
   "metadata": {},
   "outputs": [
    {
     "data": {
      "text/plain": [
       "array([[3., 5.],\n",
       "       [4., 6.],\n",
       "       [4., 6.],\n",
       "       [2., 1.],\n",
       "       [2., 6.],\n",
       "       [1., 5.],\n",
       "       [1., 4.],\n",
       "       [4., 5.],\n",
       "       [3., 2.],\n",
       "       [1., 5.],\n",
       "       [3., 5.],\n",
       "       [2., 1.],\n",
       "       [1., 6.],\n",
       "       [4., 4.],\n",
       "       [4., 1.],\n",
       "       [3., 4.],\n",
       "       [1., 3.],\n",
       "       [4., 2.],\n",
       "       [3., 2.],\n",
       "       [2., 3.],\n",
       "       [1., 5.],\n",
       "       [2., 1.],\n",
       "       [3., 5.],\n",
       "       [2., 5.],\n",
       "       [1., 6.],\n",
       "       [4., 5.],\n",
       "       [3., 6.],\n",
       "       [2., 6.],\n",
       "       [3., 5.],\n",
       "       [3., 4.],\n",
       "       [4., 6.],\n",
       "       [3., 6.],\n",
       "       [1., 1.],\n",
       "       [4., 2.],\n",
       "       [3., 2.],\n",
       "       [2., 5.],\n",
       "       [1., 3.],\n",
       "       [4., 1.],\n",
       "       [2., 2.],\n",
       "       [1., 4.],\n",
       "       [1., 3.],\n",
       "       [2., 4.],\n",
       "       [2., 4.],\n",
       "       [2., 6.],\n",
       "       [1., 4.],\n",
       "       [1., 4.],\n",
       "       [1., 1.],\n",
       "       [4., 6.],\n",
       "       [3., 2.],\n",
       "       [4., 3.],\n",
       "       [1., 5.],\n",
       "       [1., 6.],\n",
       "       [3., 2.],\n",
       "       [4., 2.],\n",
       "       [2., 2.],\n",
       "       [3., 3.],\n",
       "       [4., 2.],\n",
       "       [3., 6.],\n",
       "       [2., 3.],\n",
       "       [1., 4.]])"
      ]
     },
     "execution_count": 26,
     "metadata": {},
     "output_type": "execute_result"
    }
   ],
   "source": [
    "# two colons reverses the printing order, -1 means start at the end\n",
    "data[::-1,4:8:2]"
   ]
  },
  {
   "cell_type": "raw",
   "metadata": {},
   "source": [
    "type(data)"
   ]
  },
  {
   "cell_type": "code",
   "execution_count": 27,
   "metadata": {},
   "outputs": [
    {
     "data": {
      "text/plain": [
       "(60, 40)"
      ]
     },
     "execution_count": 27,
     "metadata": {},
     "output_type": "execute_result"
    }
   ],
   "source": [
    "data.shape"
   ]
  },
  {
   "cell_type": "code",
   "execution_count": 28,
   "metadata": {},
   "outputs": [
    {
     "data": {
      "text/plain": [
       "2"
      ]
     },
     "execution_count": 28,
     "metadata": {},
     "output_type": "execute_result"
    }
   ],
   "source": [
    "data.ndim"
   ]
  },
  {
   "cell_type": "code",
   "execution_count": 29,
   "metadata": {},
   "outputs": [
    {
     "data": {
      "text/plain": [
       "1.0"
      ]
     },
     "execution_count": 29,
     "metadata": {},
     "output_type": "execute_result"
    }
   ],
   "source": [
    "data[0,4]"
   ]
  },
  {
   "cell_type": "code",
   "execution_count": 30,
   "metadata": {},
   "outputs": [
    {
     "data": {
      "text/plain": [
       "1.0"
      ]
     },
     "execution_count": 30,
     "metadata": {},
     "output_type": "execute_result"
    }
   ],
   "source": [
    "data[0][4]"
   ]
  },
  {
   "cell_type": "code",
   "execution_count": 31,
   "metadata": {},
   "outputs": [
    {
     "data": {
      "text/plain": [
       "array([ 0.        ,  0.45      ,  1.11666667,  1.75      ,  2.43333333,\n",
       "        3.15      ,  3.8       ,  3.88333333,  5.23333333,  5.51666667,\n",
       "        5.95      ,  5.9       ,  8.35      ,  7.73333333,  8.36666667,\n",
       "        9.5       ,  9.58333333, 10.63333333, 11.56666667, 12.35      ,\n",
       "       13.25      , 11.96666667, 11.03333333, 10.16666667, 10.        ,\n",
       "        8.66666667,  9.15      ,  7.25      ,  7.33333333,  6.58333333,\n",
       "        6.06666667,  5.95      ,  5.11666667,  3.6       ,  3.3       ,\n",
       "        3.56666667,  2.48333333,  1.5       ,  1.13333333,  0.56666667])"
      ]
     },
     "execution_count": 31,
     "metadata": {},
     "output_type": "execute_result"
    }
   ],
   "source": [
    "# calaculate the mean per column\n",
    "np.mean(data, axis=0)"
   ]
  },
  {
   "cell_type": "code",
   "execution_count": 32,
   "metadata": {},
   "outputs": [
    {
     "data": {
      "text/plain": [
       "array([5.45 , 5.425, 6.1  , 5.9  , 5.55 , 6.225, 5.975, 6.65 , 6.625,\n",
       "       6.525, 6.775, 5.8  , 6.225, 5.75 , 5.225, 6.3  , 6.55 , 5.7  ,\n",
       "       5.85 , 6.55 , 5.775, 5.825, 6.175, 6.1  , 5.8  , 6.425, 6.05 ,\n",
       "       6.025, 6.175, 6.55 , 6.175, 6.35 , 6.725, 6.125, 7.075, 5.725,\n",
       "       5.925, 6.15 , 6.075, 5.75 , 5.975, 5.725, 6.3  , 5.9  , 6.75 ,\n",
       "       5.925, 7.225, 6.15 , 5.95 , 6.275, 5.7  , 6.1  , 6.825, 5.975,\n",
       "       6.725, 5.7  , 6.25 , 6.4  , 7.05 , 5.9  ])"
      ]
     },
     "execution_count": 32,
     "metadata": {},
     "output_type": "execute_result"
    }
   ],
   "source": [
    "# calaculate the mean per row\n",
    "np.mean(data, axis=1)"
   ]
  },
  {
   "cell_type": "code",
   "execution_count": 33,
   "metadata": {},
   "outputs": [
    {
     "data": {
      "text/plain": [
       "6.14875"
      ]
     },
     "execution_count": 33,
     "metadata": {},
     "output_type": "execute_result"
    }
   ],
   "source": [
    "# calaculate the mean of the whole array\n",
    "np.mean(data)"
   ]
  },
  {
   "cell_type": "code",
   "execution_count": 34,
   "metadata": {},
   "outputs": [
    {
     "data": {
      "text/plain": [
       "20.0"
      ]
     },
     "execution_count": 34,
     "metadata": {},
     "output_type": "execute_result"
    }
   ],
   "source": [
    "#give maximum value in the array\n",
    "np.max(data)"
   ]
  },
  {
   "cell_type": "code",
   "execution_count": 35,
   "metadata": {},
   "outputs": [
    {
     "data": {
      "text/plain": [
       "4.0"
      ]
     },
     "execution_count": 35,
     "metadata": {},
     "output_type": "execute_result"
    }
   ],
   "source": [
    "#give maximum value in a subset of the array, here the area of the first 5 rows and columns\n",
    "np.max(data[:5,:5])"
   ]
  },
  {
   "cell_type": "code",
   "execution_count": 36,
   "metadata": {},
   "outputs": [
    {
     "name": "stdout",
     "output_type": "stream",
     "text": [
      "[[0 0 1 3 1]\n",
      " [0 1 2 1 2]\n",
      " [0 1 1 3 3]\n",
      " [0 0 2 0 4]\n",
      " [0 1 1 3 3]]\n"
     ]
    }
   ],
   "source": [
    "# check\n",
    "print(data[:5,:5].astype('int'))"
   ]
  },
  {
   "cell_type": "code",
   "execution_count": 37,
   "metadata": {},
   "outputs": [
    {
     "data": {
      "text/plain": [
       "0.0"
      ]
     },
     "execution_count": 37,
     "metadata": {},
     "output_type": "execute_result"
    }
   ],
   "source": [
    "# or, to work with a subset, create a copy of the subset and work with that\n",
    "datasubset = data[:5,:5]\n",
    "np.min(datasubset)"
   ]
  },
  {
   "cell_type": "code",
   "execution_count": 38,
   "metadata": {},
   "outputs": [
    {
     "name": "stdout",
     "output_type": "stream",
     "text": [
      "standard dev: 1.2237646832622684\n"
     ]
    }
   ],
   "source": [
    "print('standard dev:', datasubset.std())"
   ]
  },
  {
   "cell_type": "markdown",
   "metadata": {},
   "source": [
    "# Plotting\n",
    "## Plotting with matplotlib"
   ]
  },
  {
   "cell_type": "code",
   "execution_count": 39,
   "metadata": {},
   "outputs": [],
   "source": [
    "# !pip install matplotlib\n",
    "import matplotlib.pyplot as pp"
   ]
  },
  {
   "cell_type": "code",
   "execution_count": 40,
   "metadata": {},
   "outputs": [
    {
     "name": "stdout",
     "output_type": "stream",
     "text": [
      "Package                            Version  \n",
      "---------------------------------- ---------\n",
      "alabaster                          0.7.12   \n",
      "anaconda-client                    1.7.2    \n",
      "anaconda-navigator                 1.9.7    \n",
      "anaconda-project                   0.8.3    \n",
      "appnope                            0.1.0    \n",
      "appscript                          1.0.1    \n",
      "asn1crypto                         0.24.0   \n",
      "astroid                            2.2.5    \n",
      "astropy                            3.2.1    \n",
      "atomicwrites                       1.3.0    \n",
      "attrs                              19.1.0   \n",
      "Babel                              2.7.0    \n",
      "backcall                           0.1.0    \n",
      "backports.functools-lru-cache      1.5      \n",
      "backports.os                       0.1.1    \n",
      "backports.shutil-get-terminal-size 1.0.0    \n",
      "backports.tempfile                 1.0      \n",
      "backports.weakref                  1.0.post1\n",
      "beautifulsoup4                     4.7.1    \n",
      "bitarray                           0.9.3    \n",
      "bkcharts                           0.2      \n",
      "bleach                             3.1.0    \n",
      "bokeh                              1.2.0    \n",
      "boto                               2.49.0   \n",
      "Bottleneck                         1.2.1    \n",
      "certifi                            2019.6.16\n",
      "cffi                               1.12.3   \n",
      "chardet                            3.0.4    \n",
      "Click                              7.0      \n",
      "cloudpickle                        1.2.1    \n",
      "clyent                             1.2.2    \n",
      "colorama                           0.4.1    \n",
      "conda                              4.7.11   \n",
      "conda-build                        3.18.8   \n",
      "conda-package-handling             1.3.11   \n",
      "conda-verify                       3.4.2    \n",
      "contextlib2                        0.5.5    \n",
      "cryptography                       2.7      \n",
      "cycler                             0.10.0   \n",
      "Cython                             0.29.12  \n",
      "cytoolz                            0.10.0   \n",
      "dask                               2.1.0    \n",
      "decorator                          4.4.0    \n",
      "defusedxml                         0.6.0    \n",
      "distributed                        2.1.0    \n",
      "docutils                           0.14     \n",
      "entrypoints                        0.3      \n",
      "et-xmlfile                         1.0.1    \n",
      "fastcache                          1.1.0    \n",
      "filelock                           3.0.12   \n",
      "Flask                              1.1.1    \n",
      "future                             0.17.1   \n",
      "gevent                             1.4.0    \n",
      "glob2                              0.7      \n",
      "gmpy2                              2.0.8    \n",
      "greenlet                           0.4.15   \n",
      "h5py                               2.9.0    \n",
      "heapdict                           1.0.0    \n",
      "html5lib                           1.0.1    \n",
      "idna                               2.8      \n",
      "imageio                            2.5.0    \n",
      "imagesize                          1.1.0    \n",
      "importlib-metadata                 0.17     \n",
      "ipykernel                          5.1.1    \n",
      "ipython                            7.6.1    \n",
      "ipython-genutils                   0.2.0    \n",
      "ipywidgets                         7.5.0    \n",
      "isort                              4.3.21   \n",
      "itsdangerous                       1.1.0    \n",
      "jdcal                              1.4.1    \n",
      "jedi                               0.13.3   \n",
      "Jinja2                             2.10.1   \n",
      "joblib                             0.13.2   \n",
      "json5                              0.8.4    \n",
      "jsonschema                         3.0.1    \n",
      "jupyter                            1.0.0    \n",
      "jupyter-client                     5.3.1    \n",
      "jupyter-console                    6.0.0    \n",
      "jupyter-core                       4.5.0    \n",
      "jupyterlab                         1.0.2    \n",
      "jupyterlab-server                  1.0.0    \n",
      "keyring                            18.0.0   \n",
      "kiwisolver                         1.1.0    \n",
      "lazy-object-proxy                  1.4.1    \n",
      "libarchive-c                       2.8      \n",
      "lief                               0.9.0    \n",
      "llvmlite                           0.29.0   \n",
      "locket                             0.2.0    \n",
      "lxml                               4.3.4    \n",
      "MarkupSafe                         1.1.1    \n",
      "matplotlib                         3.1.0    \n",
      "mccabe                             0.6.1    \n",
      "mistune                            0.8.4    \n",
      "mkl-fft                            1.0.12   \n",
      "mkl-random                         1.0.2    \n",
      "mkl-service                        2.0.2    \n",
      "mock                               3.0.5    \n",
      "more-itertools                     7.0.0    \n",
      "mpmath                             1.1.0    \n",
      "msgpack                            0.6.1    \n",
      "multipledispatch                   0.6.0    \n",
      "navigator-updater                  0.2.1    \n",
      "nbconvert                          5.5.0    \n",
      "nbformat                           4.4.0    \n",
      "networkx                           2.3      \n",
      "nltk                               3.4.4    \n",
      "nose                               1.3.7    \n",
      "notebook                           6.0.0    \n",
      "numba                              0.44.1   \n",
      "numexpr                            2.6.9    \n",
      "numpy                              1.16.4   \n",
      "numpydoc                           0.9.1    \n",
      "olefile                            0.46     \n",
      "openpyxl                           2.6.2    \n",
      "packaging                          19.0     \n",
      "pandas                             0.24.2   \n",
      "pandocfilters                      1.4.2    \n",
      "parso                              0.5.0    \n",
      "partd                              1.0.0    \n",
      "path.py                            12.0.1   \n",
      "pathlib2                           2.3.4    \n",
      "patsy                              0.5.1    \n",
      "pep8                               1.7.1    \n",
      "pexpect                            4.7.0    \n",
      "pickleshare                        0.7.5    \n",
      "Pillow                             6.1.0    \n",
      "pip                                19.1.1   \n",
      "pkginfo                            1.5.0.1  \n",
      "pluggy                             0.12.0   \n",
      "ply                                3.11     \n",
      "prometheus-client                  0.7.1    \n",
      "prompt-toolkit                     2.0.9    \n",
      "psutil                             5.6.3    \n",
      "ptyprocess                         0.6.0    \n",
      "py                                 1.8.0    \n",
      "pycodestyle                        2.5.0    \n",
      "pycosat                            0.6.3    \n",
      "pycparser                          2.19     \n",
      "pycrypto                           2.6.1    \n",
      "pycurl                             7.43.0.3 \n",
      "pyflakes                           2.1.1    \n",
      "Pygments                           2.4.2    \n",
      "pylint                             2.3.1    \n",
      "pyodbc                             4.0.26   \n",
      "pyOpenSSL                          19.0.0   \n",
      "pyparsing                          2.4.0    \n",
      "pyrsistent                         0.14.11  \n",
      "PySocks                            1.7.0    \n",
      "pytest                             5.0.1    \n",
      "pytest-arraydiff                   0.3      \n",
      "pytest-astropy                     0.5.0    \n",
      "pytest-doctestplus                 0.3.0    \n",
      "pytest-openfiles                   0.3.2    \n",
      "pytest-remotedata                  0.3.1    \n",
      "python-dateutil                    2.8.0    \n",
      "pytz                               2019.1   \n",
      "PyWavelets                         1.0.3    \n",
      "PyYAML                             5.1.1    \n",
      "pyzmq                              18.0.0   \n",
      "QtAwesome                          0.5.7    \n",
      "qtconsole                          4.5.1    \n",
      "QtPy                               1.8.0    \n",
      "requests                           2.22.0   \n",
      "rope                               0.14.0   \n",
      "ruamel-yaml                        0.15.46  \n",
      "scikit-image                       0.15.0   \n",
      "scikit-learn                       0.21.2   \n",
      "scipy                              1.3.0    \n",
      "seaborn                            0.9.0    \n",
      "Send2Trash                         1.5.0    \n",
      "setuptools                         41.0.1   \n",
      "simplegeneric                      0.8.1    \n",
      "singledispatch                     3.4.0.3  \n",
      "six                                1.12.0   \n",
      "snowballstemmer                    1.9.0    \n",
      "sortedcollections                  1.1.2    \n",
      "sortedcontainers                   2.1.0    \n",
      "soupsieve                          1.8      \n",
      "Sphinx                             2.1.2    \n",
      "sphinxcontrib-applehelp            1.0.1    \n",
      "sphinxcontrib-devhelp              1.0.1    \n",
      "sphinxcontrib-htmlhelp             1.0.2    \n",
      "sphinxcontrib-jsmath               1.0.1    \n",
      "sphinxcontrib-qthelp               1.0.2    \n",
      "sphinxcontrib-serializinghtml      1.1.3    \n",
      "sphinxcontrib-websupport           1.1.2    \n",
      "spyder                             3.3.6    \n",
      "spyder-kernels                     0.5.1    \n",
      "SQLAlchemy                         1.3.5    \n",
      "statsmodels                        0.10.0   \n",
      "sympy                              1.4      \n",
      "tables                             3.5.2    \n",
      "tblib                              1.4.0    \n",
      "terminado                          0.8.2    \n",
      "testpath                           0.4.2    \n",
      "toolz                              0.10.0   \n",
      "tornado                            6.0.3    \n",
      "tqdm                               4.32.1   \n",
      "traitlets                          4.3.2    \n",
      "unicodecsv                         0.14.1   \n",
      "urllib3                            1.24.2   \n",
      "wcwidth                            0.1.7    \n",
      "webencodings                       0.5.1    \n",
      "Werkzeug                           0.15.4   \n",
      "wheel                              0.33.4   \n",
      "widgetsnbextension                 3.5.0    \n",
      "wrapt                              1.11.2   \n",
      "wurlitzer                          1.0.2    \n",
      "xlrd                               1.2.0    \n",
      "XlsxWriter                         1.1.8    \n",
      "xlwings                            0.15.8   \n",
      "xlwt                               1.3.0    \n",
      "zict                               1.0.0    \n",
      "zipp                               0.5.1    \n"
     ]
    }
   ],
   "source": [
    "# if you would like to see the list of all installed packages\n",
    "!pip list "
   ]
  },
  {
   "cell_type": "code",
   "execution_count": 41,
   "metadata": {},
   "outputs": [
    {
     "data": {
      "text/plain": [
       "<matplotlib.image.AxesImage at 0x120451160>"
      ]
     },
     "execution_count": 41,
     "metadata": {},
     "output_type": "execute_result"
    },
    {
     "data": {
      "image/png": "[encoded data removed]",
      "text/plain": [
       "<Figure size 432x288 with 1 Axes>"
      ]
     },
     "metadata": {
      "needs_background": "light"
     },
     "output_type": "display_data"
    }
   ],
   "source": [
    "pp.imshow(data)"
   ]
  },
  {
   "cell_type": "code",
   "execution_count": 42,
   "metadata": {},
   "outputs": [
    {
     "data": {
      "image/png": "[encoded data removed]",
      "text/plain": [
       "<Figure size 432x288 with 1 Axes>"
      ]
     },
     "metadata": {
      "needs_background": "light"
     },
     "output_type": "display_data"
    }
   ],
   "source": [
    "# to get rid of the memory reference message, program more properly as it should be in python\n",
    "plot1 = pp.imshow(data)\n",
    "pp.show(plot1)"
   ]
  },
  {
   "cell_type": "code",
   "execution_count": 43,
   "metadata": {},
   "outputs": [],
   "source": [
    "# add some jupyter magic, to make python behave differently than it normally would\n",
    "# check out: https://ipython.readthedocs.io/en/stable/interactive/magics.html \n",
    "#%matplotlib inline\n",
    "#%timeit pp.imshow(data)"
   ]
  },
  {
   "cell_type": "code",
   "execution_count": 44,
   "metadata": {},
   "outputs": [
    {
     "data": {
      "image/png": "[encoded data removed]",
      "text/plain": [
       "<Figure size 432x288 with 1 Axes>"
      ]
     },
     "metadata": {
      "needs_background": "light"
     },
     "output_type": "display_data"
    }
   ],
   "source": [
    "average_data = np.mean(data, axis=0)\n",
    "pp.plot(average_data);"
   ]
  },
  {
   "cell_type": "markdown",
   "metadata": {},
   "source": [
    "## Working with subfigures"
   ]
  },
  {
   "cell_type": "code",
   "execution_count": 45,
   "metadata": {},
   "outputs": [
    {
     "data": {
      "text/plain": [
       "<Figure size 720x432 with 0 Axes>"
      ]
     },
     "metadata": {},
     "output_type": "display_data"
    }
   ],
   "source": [
    "fig1 = pp.figure(figsize=(10,6))"
   ]
  },
  {
   "cell_type": "code",
   "execution_count": 46,
   "metadata": {},
   "outputs": [],
   "source": [
    "#create subplots in 3 columns, so 3 figures next to one another\n",
    "axes1 = fig1.add_subplot(1,3,1)\n",
    "axes2 = fig1.add_subplot(1,3,2)\n",
    "axes3 = fig1.add_subplot(1,3,3)"
   ]
  },
  {
   "cell_type": "code",
   "execution_count": 48,
   "metadata": {},
   "outputs": [
    {
     "data": {
      "image/png": "[encoded data removed]",
      "text/plain": [
       "<Figure size 720x432 with 3 Axes>"
      ]
     },
     "execution_count": 48,
     "metadata": {},
     "output_type": "execute_result"
    }
   ],
   "source": [
    "axes1.set_ylabel(\"Y-axis\")\n",
    "axes1.plot(average_data)\n",
    "axes2.plot(np.std(data,axis=0))\n",
    "axes3.plot(average_data)\n",
    "\n",
    "fig1\n",
    "#pp.show(fig1)"
   ]
  },
  {
   "cell_type": "code",
   "execution_count": null,
   "metadata": {},
   "outputs": [],
   "source": []
  },
  {
   "cell_type": "code",
   "execution_count": null,
   "metadata": {},
   "outputs": [],
   "source": []
  }
 ],
 "metadata": {
  "kernelspec": {
   "display_name": "Python 3",
   "language": "python",
   "name": "python3"
  },
  "language_info": {
   "codemirror_mode": {
    "name": "ipython",
    "version": 3
   },
   "file_extension": ".py",
   "mimetype": "text/x-python",
   "name": "python",
   "nbconvert_exporter": "python",
   "pygments_lexer": "ipython3",
   "version": "3.7.3"
  }
 },
 "nbformat": 4,
 "nbformat_minor": 4
}
