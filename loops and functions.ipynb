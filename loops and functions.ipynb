{
 "cells": [
  {
   "cell_type": "code",
   "execution_count": 4,
   "metadata": {},
   "outputs": [],
   "source": [
    "# or use %pylab to achieve the same:\n",
    "import numpy as np\n",
    "import matplotlib.pyplot as plt"
   ]
  },
  {
   "cell_type": "code",
   "execution_count": 9,
   "metadata": {},
   "outputs": [
    {
     "data": {
      "image/png": "[encoded data removed]",
      "text/plain": [
       "<Figure size 432x288 with 1 Axes>"
      ]
     },
     "metadata": {
      "needs_background": "light"
     },
     "output_type": "display_data"
    }
   ],
   "source": [
    "x = np.linspace(-2, 2, 100)\n",
    "y = x**2\n",
    "plt.plot(x,y);"
   ]
  },
  {
   "cell_type": "code",
   "execution_count": 20,
   "metadata": {},
   "outputs": [
    {
     "name": "stdout",
     "output_type": "stream",
     "text": [
      "t\n",
      "i\n",
      "n\n",
      "t\n",
      "i\n",
      "n\n"
     ]
    }
   ],
   "source": [
    "# for-loops in python\n",
    "# in for-loops, use space as indent, as many as you want, but always use the same amount of spaces\n",
    "\n",
    "word = \"tin\"\n",
    "for c in word: \n",
    "   print(c)\n",
    "    \n",
    "for i in range(len(word)):\n",
    "   print(word[i])\n"
   ]
  },
  {
   "cell_type": "code",
   "execution_count": 22,
   "metadata": {},
   "outputs": [
    {
     "name": "stdout",
     "output_type": "stream",
     "text": [
      "0 t\n",
      "1 i\n",
      "2 n\n"
     ]
    }
   ],
   "source": [
    "for index, char in enumerate(word):\n",
    "   print(index, char)\n",
    "    "
   ]
  },
  {
   "cell_type": "code",
   "execution_count": 28,
   "metadata": {},
   "outputs": [
    {
     "name": "stdout",
     "output_type": "stream",
     "text": [
      "1 1\n",
      "2 4\n",
      "3 9\n",
      "4 16\n",
      "5 25\n",
      "6 36\n",
      "7 49\n",
      "8 64\n",
      "9 81\n"
     ]
    }
   ],
   "source": [
    "for i in range(10):\n",
    "   if i!=0: print(i, i*i)"
   ]
  },
  {
   "cell_type": "code",
   "execution_count": 48,
   "metadata": {},
   "outputs": [
    {
     "name": "stdout",
     "output_type": "stream",
     "text": [
      "9\n",
      "0\n",
      "Help on function square in module __main__:\n",
      "\n",
      "square(x=0)\n",
      "    This function calculates the square root of the call parameter\n",
      "    \n",
      "    The first line should give a short description of the function\n",
      "    If the docstring has more lines, the 2nd line should be empty to clearly seperate the first line from the rest\n",
      "\n"
     ]
    }
   ],
   "source": [
    "# definition of a function with a parameter and a return value\n",
    "# every function should have a docstring description\n",
    "\n",
    "def square(x=0):\n",
    "   \"\"\" This function calculates the square root of the call parameter\n",
    "   \n",
    "   The first line should give a short description of the function\n",
    "   If the docstring has more lines, the 2nd line should be empty to clearly seperate the first line from the rest\"\"\"\n",
    "   return x*x\n",
    "\n",
    "print(square(3))\n",
    "print(square())\n",
    "help(square) # or get this info with shift+tab"
   ]
  },
  {
   "cell_type": "code",
   "execution_count": 47,
   "metadata": {},
   "outputs": [
    {
     "name": "stdout",
     "output_type": "stream",
     "text": [
      "You caused an I/O error!\n"
     ]
    }
   ],
   "source": [
    "try:\n",
    "    data = np.loadtxt(fname=\"./idontexist\")\n",
    "\n",
    "except IOError:\n",
    "    print(\"You caused an I/O error!\")\n",
    "else:\n",
    "    print(\"You caused some exception\")\n",
    "finally:\n",
    "    # add any clean-up actions here\n",
    "    data = 0"
   ]
  },
  {
   "cell_type": "markdown",
   "metadata": {},
   "source": [
    "## Defensive programming with assertions"
   ]
  },
  {
   "cell_type": "code",
   "execution_count": 1,
   "metadata": {},
   "outputs": [],
   "source": [
    "numbers = [1, 5, 20, 13, -2, 100]"
   ]
  },
  {
   "cell_type": "code",
   "execution_count": 4,
   "metadata": {},
   "outputs": [
    {
     "name": "stdout",
     "output_type": "stream",
     "text": [
      "1 1.0\n",
      "5 6.0\n",
      "20 26.0\n",
      "13 39.0\n"
     ]
    },
    {
     "ename": "AssertionError",
     "evalue": "no negative numbers!",
     "output_type": "error",
     "traceback": [
      "\u001b[0;31m---------------------------------------------------------------------------\u001b[0m",
      "\u001b[0;31mAssertionError\u001b[0m                            Traceback (most recent call last)",
      "\u001b[0;32m<ipython-input-4-7e383ec39108>\u001b[0m in \u001b[0;36m<module>\u001b[0;34m\u001b[0m\n\u001b[1;32m      1\u001b[0m \u001b[0mtotal\u001b[0m \u001b[0;34m=\u001b[0m \u001b[0;36m0.0\u001b[0m\u001b[0;34m\u001b[0m\u001b[0;34m\u001b[0m\u001b[0m\n\u001b[1;32m      2\u001b[0m \u001b[0;32mfor\u001b[0m \u001b[0mitem\u001b[0m \u001b[0;32min\u001b[0m \u001b[0mnumbers\u001b[0m\u001b[0;34m:\u001b[0m\u001b[0;34m\u001b[0m\u001b[0;34m\u001b[0m\u001b[0m\n\u001b[0;32m----> 3\u001b[0;31m     \u001b[0;32massert\u001b[0m \u001b[0mitem\u001b[0m \u001b[0;34m>\u001b[0m \u001b[0;36m0.0\u001b[0m\u001b[0;34m,\u001b[0m \u001b[0;34m\"no negative numbers!\"\u001b[0m\u001b[0;34m\u001b[0m\u001b[0;34m\u001b[0m\u001b[0m\n\u001b[0m\u001b[1;32m      4\u001b[0m \u001b[0;31m#     if item < 0:\u001b[0m\u001b[0;34m\u001b[0m\u001b[0;34m\u001b[0m\u001b[0;34m\u001b[0m\u001b[0m\n\u001b[1;32m      5\u001b[0m \u001b[0;31m#         print('Heyyy be careful!')\u001b[0m\u001b[0;34m\u001b[0m\u001b[0;34m\u001b[0m\u001b[0;34m\u001b[0m\u001b[0m\n",
      "\u001b[0;31mAssertionError\u001b[0m: no negative numbers!"
     ]
    }
   ],
   "source": [
    "total = 0.0\n",
    "for item in numbers:\n",
    "    assert item > 0.0, \"no negative numbers!\"\n",
    "#     if item < 0:\n",
    "#         print('Heyyy be careful!')\n",
    "    total = total + item\n",
    "    print(item, total)"
   ]
  },
  {
   "cell_type": "code",
   "execution_count": null,
   "metadata": {},
   "outputs": [],
   "source": []
  }
 ],
 "metadata": {
  "kernelspec": {
   "display_name": "Python 3",
   "language": "python",
   "name": "python3"
  },
  "language_info": {
   "codemirror_mode": {
    "name": "ipython",
    "version": 3
   },
   "file_extension": ".py",
   "mimetype": "text/x-python",
   "name": "python",
   "nbconvert_exporter": "python",
   "pygments_lexer": "ipython3",
   "version": "3.7.3"
  }
 },
 "nbformat": 4,
 "nbformat_minor": 4
}
